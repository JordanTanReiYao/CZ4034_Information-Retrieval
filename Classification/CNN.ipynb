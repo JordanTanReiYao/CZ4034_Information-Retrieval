{
 "cells": [
  {
   "cell_type": "code",
   "execution_count": null,
   "metadata": {
    "colab": {
     "base_uri": "https://localhost:8080/"
    },
    "id": "O50bkDmSWoOF",
    "outputId": "29fe46ae-28bb-4db5-8a21-97efe7e135fb"
   },
   "outputs": [
    {
     "name": "stdout",
     "output_type": "stream",
     "text": [
      "Mounted at /content/gdrive\n"
     ]
    }
   ],
   "source": [
    "from google.colab import drive \n",
    "drive.mount('/content/gdrive')"
   ]
  },
  {
   "cell_type": "code",
   "execution_count": null,
   "metadata": {
    "id": "Cy5CJtEZcOOy"
   },
   "outputs": [],
   "source": [
    "from keras.models import Sequential\n",
    "from keras.layers import Dense,Conv1D,MaxPooling1D\n",
    "from keras.layers import LSTM,Dropout\n",
    "from keras.layers.embeddings import Embedding\n",
    "from keras.preprocessing.text import Tokenizer\n",
    "from keras.preprocessing.sequence import pad_sequences\n",
    "from keras.callbacks import ModelCheckpoint\n",
    "from tensorflow.keras.layers import Embedding, LSTM, Dense, Bidirectional, Dropout,Flatten\n",
    "from textblob import TextBlob\n",
    "from keras.models import load_model"
   ]
  },
  {
   "cell_type": "code",
   "execution_count": null,
   "metadata": {
    "id": "m4dwcoqVX1MV"
   },
   "outputs": [],
   "source": [
    "import re\n",
    "import numpy as np\n",
    "import pandas as pd\n",
    "from sklearn.model_selection import train_test_split\n",
    "from sklearn.metrics import classification_report\n",
    "import pickle\n",
    "from time import time"
   ]
  },
  {
   "cell_type": "code",
   "execution_count": null,
   "metadata": {
    "id": "BGF7-lWRA38_"
   },
   "outputs": [],
   "source": [
    "from time import time"
   ]
  },
  {
   "cell_type": "code",
   "execution_count": null,
   "metadata": {
    "colab": {
     "base_uri": "https://localhost:8080/"
    },
    "id": "8w0RODuieOlM",
    "outputId": "9a8ac821-1b6e-45c0-9f26-7e7237169180"
   },
   "outputs": [
    {
     "name": "stdout",
     "output_type": "stream",
     "text": [
      "Collecting contractions\n",
      "  Downloading contractions-0.1.68-py2.py3-none-any.whl (8.1 kB)\n",
      "Collecting textsearch>=0.0.21\n",
      "  Downloading textsearch-0.0.21-py2.py3-none-any.whl (7.5 kB)\n",
      "Collecting pyahocorasick\n",
      "  Downloading pyahocorasick-1.4.4-cp37-cp37m-manylinux_2_17_x86_64.manylinux2014_x86_64.whl (106 kB)\n",
      "\u001b[K     |████████████████████████████████| 106 kB 43.5 MB/s \n",
      "\u001b[?25hCollecting anyascii\n",
      "  Downloading anyascii-0.3.0-py3-none-any.whl (284 kB)\n",
      "\u001b[K     |████████████████████████████████| 284 kB 65.7 MB/s \n",
      "\u001b[?25hInstalling collected packages: pyahocorasick, anyascii, textsearch, contractions\n",
      "Successfully installed anyascii-0.3.0 contractions-0.1.68 pyahocorasick-1.4.4 textsearch-0.0.21\n"
     ]
    }
   ],
   "source": [
    "!pip install contractions"
   ]
  },
  {
   "cell_type": "code",
   "execution_count": null,
   "metadata": {
    "id": "2HO0MIbueST2"
   },
   "outputs": [],
   "source": [
    "import contractions"
   ]
  },
  {
   "cell_type": "code",
   "execution_count": null,
   "metadata": {
    "id": "byqh6FN7e_MH"
   },
   "outputs": [],
   "source": [
    "# The maximum number of words to be used. (most frequent)\n",
    "MAX_NB_WORDS = 170000\n",
    "# Max number of words in each complaint.\n",
    "MAX_SEQUENCE_LENGTH = 160\n",
    "# This is fixed.\n",
    "EMBEDDING_DIM = 100"
   ]
  },
  {
   "cell_type": "code",
   "execution_count": null,
   "metadata": {
    "id": "rIn2h07ucQzK"
   },
   "outputs": [],
   "source": [
    "# fix random seed for reproducibility\n",
    "np.random.seed(7)"
   ]
  },
  {
   "cell_type": "code",
   "execution_count": null,
   "metadata": {
    "id": "48ad8329"
   },
   "outputs": [],
   "source": [
    "train=pd.read_csv('gdrive/My Drive/CZ4034_train.csv')\n",
    "test=pd.read_csv('gdrive/My Drive/CZ4034_test.csv')"
   ]
  },
  {
   "cell_type": "code",
   "execution_count": null,
   "metadata": {
    "colab": {
     "base_uri": "https://localhost:8080/"
    },
    "id": "6D9PeY9uWWbS",
    "outputId": "c9441548-578e-4995-b879-1c2ae1a966bc"
   },
   "outputs": [
    {
     "data": {
      "text/plain": [
       "7827"
      ]
     },
     "execution_count": 11,
     "metadata": {},
     "output_type": "execute_result"
    }
   ],
   "source": [
    "len(train)"
   ]
  },
  {
   "cell_type": "code",
   "execution_count": null,
   "metadata": {
    "id": "OOpeumNtc-Q9"
   },
   "outputs": [],
   "source": [
    "def clean_text(text):\n",
    "  text=contractions.fix(text)\n",
    "  text=re.sub(r'\\W+',' ',text)\n",
    "  text=re.sub('\\s\\s+',' ',text)\n",
    "  text=text.strip()\n",
    "  text=text.lower()\n",
    "  return text"
   ]
  },
  {
   "cell_type": "code",
   "execution_count": null,
   "metadata": {
    "id": "ecpZdMkNUAWM"
   },
   "outputs": [],
   "source": [
    "train['text']=train['text'].apply(clean_text)"
   ]
  },
  {
   "cell_type": "code",
   "execution_count": null,
   "metadata": {
    "colab": {
     "base_uri": "https://localhost:8080/",
     "height": 1000
    },
    "id": "rqY1HgvHUJbg",
    "outputId": "f9ef3f26-45d0-4fa9-f55f-e5881bce0612"
   },
   "outputs": [
    {
     "data": {
      "text/html": [
       "\n",
       "  <div id=\"df-d2a586df-d6e8-4f7c-9cd1-cfc5c7369ed6\">\n",
       "    <div class=\"colab-df-container\">\n",
       "      <div>\n",
       "<style scoped>\n",
       "    .dataframe tbody tr th:only-of-type {\n",
       "        vertical-align: middle;\n",
       "    }\n",
       "\n",
       "    .dataframe tbody tr th {\n",
       "        vertical-align: top;\n",
       "    }\n",
       "\n",
       "    .dataframe thead th {\n",
       "        text-align: right;\n",
       "    }\n",
       "</style>\n",
       "<table border=\"1\" class=\"dataframe\">\n",
       "  <thead>\n",
       "    <tr style=\"text-align: right;\">\n",
       "      <th></th>\n",
       "      <th>Unnamed: 0</th>\n",
       "      <th>username</th>\n",
       "      <th>acctdesc</th>\n",
       "      <th>location</th>\n",
       "      <th>following</th>\n",
       "      <th>followers</th>\n",
       "      <th>totaltweets</th>\n",
       "      <th>usercreatedts</th>\n",
       "      <th>tweetcreatedts</th>\n",
       "      <th>retweetcount</th>\n",
       "      <th>favoritecount</th>\n",
       "      <th>text</th>\n",
       "      <th>hashtags</th>\n",
       "      <th>sentiment</th>\n",
       "    </tr>\n",
       "  </thead>\n",
       "  <tbody>\n",
       "    <tr>\n",
       "      <th>0</th>\n",
       "      <td>9471</td>\n",
       "      <td>emmyrm1290</td>\n",
       "      <td>â™¡ 18â™¡ â€œEmily Rose of the Emily Roses â™¡</td>\n",
       "      <td>she/her</td>\n",
       "      <td>187</td>\n",
       "      <td>284</td>\n",
       "      <td>13197</td>\n",
       "      <td>2016-02-05 18:25:21+00:00</td>\n",
       "      <td>2022-02-03 01:03:56+00:00</td>\n",
       "      <td>0</td>\n",
       "      <td>4</td>\n",
       "      <td>me and them discussing drinking vaccine liquid...</td>\n",
       "      <td>[]</td>\n",
       "      <td>neutral</td>\n",
       "    </tr>\n",
       "    <tr>\n",
       "      <th>1</th>\n",
       "      <td>6084</td>\n",
       "      <td>EduCoder</td>\n",
       "      <td>Father, software developer, former math teache...</td>\n",
       "      <td>Quebec, Canada</td>\n",
       "      <td>911</td>\n",
       "      <td>1943</td>\n",
       "      <td>8551</td>\n",
       "      <td>2012-12-15 15:40:47+00:00</td>\n",
       "      <td>2022-02-03 15:53:00+00:00</td>\n",
       "      <td>0</td>\n",
       "      <td>0</td>\n",
       "      <td>if you are pro vaccine take a quick second to ...</td>\n",
       "      <td>[{'text': 'spotifyexodus', 'indices': [261, 27...</td>\n",
       "      <td>positive</td>\n",
       "    </tr>\n",
       "    <tr>\n",
       "      <th>2</th>\n",
       "      <td>2481</td>\n",
       "      <td>Suzy_NotSuzy</td>\n",
       "      <td>Starting over again AGAIN. Hello all you beaut...</td>\n",
       "      <td>NaN</td>\n",
       "      <td>411</td>\n",
       "      <td>401</td>\n",
       "      <td>291</td>\n",
       "      <td>2022-01-31 18:51:24+00:00</td>\n",
       "      <td>2022-02-04 03:27:15+00:00</td>\n",
       "      <td>8</td>\n",
       "      <td>22</td>\n",
       "      <td>how can you call me an anti vaxxer when i have...</td>\n",
       "      <td>[]</td>\n",
       "      <td>negative</td>\n",
       "    </tr>\n",
       "    <tr>\n",
       "      <th>3</th>\n",
       "      <td>5128</td>\n",
       "      <td>krae9836</td>\n",
       "      <td>Christian, Husband, Father, Son, Libertarian. ...</td>\n",
       "      <td>Savannah, GA</td>\n",
       "      <td>321</td>\n",
       "      <td>59</td>\n",
       "      <td>2529</td>\n",
       "      <td>2018-07-28 01:35:52+00:00</td>\n",
       "      <td>2022-02-03 18:52:23+00:00</td>\n",
       "      <td>1</td>\n",
       "      <td>6</td>\n",
       "      <td>just a piece of advice if you are a parent who...</td>\n",
       "      <td>[]</td>\n",
       "      <td>neutral</td>\n",
       "    </tr>\n",
       "    <tr>\n",
       "      <th>4</th>\n",
       "      <td>7582</td>\n",
       "      <td>TheGirlyCart</td>\n",
       "      <td>nothing to see here</td>\n",
       "      <td>NaN</td>\n",
       "      <td>4</td>\n",
       "      <td>1</td>\n",
       "      <td>3</td>\n",
       "      <td>2021-11-01 02:37:08+00:00</td>\n",
       "      <td>2022-02-03 09:46:35+00:00</td>\n",
       "      <td>2</td>\n",
       "      <td>0</td>\n",
       "      <td>why are we students forced to give offline exa...</td>\n",
       "      <td>[{'text': 'weWantOnlineExam', 'indices': [241,...</td>\n",
       "      <td>negative</td>\n",
       "    </tr>\n",
       "    <tr>\n",
       "      <th>...</th>\n",
       "      <td>...</td>\n",
       "      <td>...</td>\n",
       "      <td>...</td>\n",
       "      <td>...</td>\n",
       "      <td>...</td>\n",
       "      <td>...</td>\n",
       "      <td>...</td>\n",
       "      <td>...</td>\n",
       "      <td>...</td>\n",
       "      <td>...</td>\n",
       "      <td>...</td>\n",
       "      <td>...</td>\n",
       "      <td>...</td>\n",
       "      <td>...</td>\n",
       "    </tr>\n",
       "    <tr>\n",
       "      <th>7822</th>\n",
       "      <td>919</td>\n",
       "      <td>DlcFredericks</td>\n",
       "      <td>Dream Big!</td>\n",
       "      <td>Ontario, CA</td>\n",
       "      <td>276</td>\n",
       "      <td>40</td>\n",
       "      <td>347</td>\n",
       "      <td>2011-11-10 03:09:02+00:00</td>\n",
       "      <td>2022-02-04 12:15:17+00:00</td>\n",
       "      <td>0</td>\n",
       "      <td>1</td>\n",
       "      <td>it is hard being a left leaning person against...</td>\n",
       "      <td>[{'text': 'TruckersForFreedom', 'indices': [18...</td>\n",
       "      <td>negative</td>\n",
       "    </tr>\n",
       "    <tr>\n",
       "      <th>7823</th>\n",
       "      <td>4307</td>\n",
       "      <td>FunkyPopsicles</td>\n",
       "      <td>Baseball fan. #LGM Music fan. Believer of God....</td>\n",
       "      <td>Ohio, USA</td>\n",
       "      <td>652</td>\n",
       "      <td>351</td>\n",
       "      <td>9170</td>\n",
       "      <td>2021-01-27 16:07:33+00:00</td>\n",
       "      <td>2022-02-03 21:49:02+00:00</td>\n",
       "      <td>0</td>\n",
       "      <td>0</td>\n",
       "      <td>after a very long discussion with a rational a...</td>\n",
       "      <td>[]</td>\n",
       "      <td>positive</td>\n",
       "    </tr>\n",
       "    <tr>\n",
       "      <th>7824</th>\n",
       "      <td>5699</td>\n",
       "      <td>cakebops</td>\n",
       "      <td>Aspiring to be a permanent resident of Kicksvi...</td>\n",
       "      <td>San Francisco, CA</td>\n",
       "      <td>213</td>\n",
       "      <td>55</td>\n",
       "      <td>2936</td>\n",
       "      <td>2018-08-25 22:14:27+00:00</td>\n",
       "      <td>2022-02-03 17:00:04+00:00</td>\n",
       "      <td>0</td>\n",
       "      <td>0</td>\n",
       "      <td>let joe rogan be a disgusting racist all he wa...</td>\n",
       "      <td>[]</td>\n",
       "      <td>negative</td>\n",
       "    </tr>\n",
       "    <tr>\n",
       "      <th>7825</th>\n",
       "      <td>537</td>\n",
       "      <td>tobihoyedepo</td>\n",
       "      <td>Have fun, live life, enjoy every moment ...we ...</td>\n",
       "      <td>Lagos, Nigeria</td>\n",
       "      <td>1041</td>\n",
       "      <td>74</td>\n",
       "      <td>352</td>\n",
       "      <td>2016-10-01 14:58:26+00:00</td>\n",
       "      <td>2022-02-04 13:56:29+00:00</td>\n",
       "      <td>0</td>\n",
       "      <td>1</td>\n",
       "      <td>south africa makes its own version of moderna ...</td>\n",
       "      <td>[]</td>\n",
       "      <td>positive</td>\n",
       "    </tr>\n",
       "    <tr>\n",
       "      <th>7826</th>\n",
       "      <td>9412</td>\n",
       "      <td>travislambirth</td>\n",
       "      <td>Law Student &amp; Filmmaker  â¬†ï¸ðŸ§¢ðŸ›ðŸ”¬ðŸ›...</td>\n",
       "      <td>Sacramento</td>\n",
       "      <td>3614</td>\n",
       "      <td>2718</td>\n",
       "      <td>21897</td>\n",
       "      <td>2009-04-14 04:42:17+00:00</td>\n",
       "      <td>2022-02-03 01:17:00+00:00</td>\n",
       "      <td>0</td>\n",
       "      <td>5</td>\n",
       "      <td>people should get pfizer or moderna shares eve...</td>\n",
       "      <td>[]</td>\n",
       "      <td>neutral</td>\n",
       "    </tr>\n",
       "  </tbody>\n",
       "</table>\n",
       "<p>7827 rows × 14 columns</p>\n",
       "</div>\n",
       "      <button class=\"colab-df-convert\" onclick=\"convertToInteractive('df-d2a586df-d6e8-4f7c-9cd1-cfc5c7369ed6')\"\n",
       "              title=\"Convert this dataframe to an interactive table.\"\n",
       "              style=\"display:none;\">\n",
       "        \n",
       "  <svg xmlns=\"http://www.w3.org/2000/svg\" height=\"24px\"viewBox=\"0 0 24 24\"\n",
       "       width=\"24px\">\n",
       "    <path d=\"M0 0h24v24H0V0z\" fill=\"none\"/>\n",
       "    <path d=\"M18.56 5.44l.94 2.06.94-2.06 2.06-.94-2.06-.94-.94-2.06-.94 2.06-2.06.94zm-11 1L8.5 8.5l.94-2.06 2.06-.94-2.06-.94L8.5 2.5l-.94 2.06-2.06.94zm10 10l.94 2.06.94-2.06 2.06-.94-2.06-.94-.94-2.06-.94 2.06-2.06.94z\"/><path d=\"M17.41 7.96l-1.37-1.37c-.4-.4-.92-.59-1.43-.59-.52 0-1.04.2-1.43.59L10.3 9.45l-7.72 7.72c-.78.78-.78 2.05 0 2.83L4 21.41c.39.39.9.59 1.41.59.51 0 1.02-.2 1.41-.59l7.78-7.78 2.81-2.81c.8-.78.8-2.07 0-2.86zM5.41 20L4 18.59l7.72-7.72 1.47 1.35L5.41 20z\"/>\n",
       "  </svg>\n",
       "      </button>\n",
       "      \n",
       "  <style>\n",
       "    .colab-df-container {\n",
       "      display:flex;\n",
       "      flex-wrap:wrap;\n",
       "      gap: 12px;\n",
       "    }\n",
       "\n",
       "    .colab-df-convert {\n",
       "      background-color: #E8F0FE;\n",
       "      border: none;\n",
       "      border-radius: 50%;\n",
       "      cursor: pointer;\n",
       "      display: none;\n",
       "      fill: #1967D2;\n",
       "      height: 32px;\n",
       "      padding: 0 0 0 0;\n",
       "      width: 32px;\n",
       "    }\n",
       "\n",
       "    .colab-df-convert:hover {\n",
       "      background-color: #E2EBFA;\n",
       "      box-shadow: 0px 1px 2px rgba(60, 64, 67, 0.3), 0px 1px 3px 1px rgba(60, 64, 67, 0.15);\n",
       "      fill: #174EA6;\n",
       "    }\n",
       "\n",
       "    [theme=dark] .colab-df-convert {\n",
       "      background-color: #3B4455;\n",
       "      fill: #D2E3FC;\n",
       "    }\n",
       "\n",
       "    [theme=dark] .colab-df-convert:hover {\n",
       "      background-color: #434B5C;\n",
       "      box-shadow: 0px 1px 3px 1px rgba(0, 0, 0, 0.15);\n",
       "      filter: drop-shadow(0px 1px 2px rgba(0, 0, 0, 0.3));\n",
       "      fill: #FFFFFF;\n",
       "    }\n",
       "  </style>\n",
       "\n",
       "      <script>\n",
       "        const buttonEl =\n",
       "          document.querySelector('#df-d2a586df-d6e8-4f7c-9cd1-cfc5c7369ed6 button.colab-df-convert');\n",
       "        buttonEl.style.display =\n",
       "          google.colab.kernel.accessAllowed ? 'block' : 'none';\n",
       "\n",
       "        async function convertToInteractive(key) {\n",
       "          const element = document.querySelector('#df-d2a586df-d6e8-4f7c-9cd1-cfc5c7369ed6');\n",
       "          const dataTable =\n",
       "            await google.colab.kernel.invokeFunction('convertToInteractive',\n",
       "                                                     [key], {});\n",
       "          if (!dataTable) return;\n",
       "\n",
       "          const docLinkHtml = 'Like what you see? Visit the ' +\n",
       "            '<a target=\"_blank\" href=https://colab.research.google.com/notebooks/data_table.ipynb>data table notebook</a>'\n",
       "            + ' to learn more about interactive tables.';\n",
       "          element.innerHTML = '';\n",
       "          dataTable['output_type'] = 'display_data';\n",
       "          await google.colab.output.renderOutput(dataTable, element);\n",
       "          const docLink = document.createElement('div');\n",
       "          docLink.innerHTML = docLinkHtml;\n",
       "          element.appendChild(docLink);\n",
       "        }\n",
       "      </script>\n",
       "    </div>\n",
       "  </div>\n",
       "  "
      ],
      "text/plain": [
       "      Unnamed: 0        username  \\\n",
       "0           9471      emmyrm1290   \n",
       "1           6084        EduCoder   \n",
       "2           2481    Suzy_NotSuzy   \n",
       "3           5128        krae9836   \n",
       "4           7582    TheGirlyCart   \n",
       "...          ...             ...   \n",
       "7822         919   DlcFredericks   \n",
       "7823        4307  FunkyPopsicles   \n",
       "7824        5699        cakebops   \n",
       "7825         537    tobihoyedepo   \n",
       "7826        9412  travislambirth   \n",
       "\n",
       "                                               acctdesc           location  \\\n",
       "0        â™¡ 18â™¡ â€œEmily Rose of the Emily Roses â™¡            she/her   \n",
       "1     Father, software developer, former math teache...     Quebec, Canada   \n",
       "2     Starting over again AGAIN. Hello all you beaut...                NaN   \n",
       "3     Christian, Husband, Father, Son, Libertarian. ...       Savannah, GA   \n",
       "4                                   nothing to see here                NaN   \n",
       "...                                                 ...                ...   \n",
       "7822                                         Dream Big!        Ontario, CA   \n",
       "7823  Baseball fan. #LGM Music fan. Believer of God....          Ohio, USA   \n",
       "7824  Aspiring to be a permanent resident of Kicksvi...  San Francisco, CA   \n",
       "7825  Have fun, live life, enjoy every moment ...we ...     Lagos, Nigeria   \n",
       "7826  Law Student & Filmmaker  â¬†ï¸ðŸ§¢ðŸ›ðŸ”¬ðŸ›...         Sacramento   \n",
       "\n",
       "      following  followers  totaltweets              usercreatedts  \\\n",
       "0           187        284        13197  2016-02-05 18:25:21+00:00   \n",
       "1           911       1943         8551  2012-12-15 15:40:47+00:00   \n",
       "2           411        401          291  2022-01-31 18:51:24+00:00   \n",
       "3           321         59         2529  2018-07-28 01:35:52+00:00   \n",
       "4             4          1            3  2021-11-01 02:37:08+00:00   \n",
       "...         ...        ...          ...                        ...   \n",
       "7822        276         40          347  2011-11-10 03:09:02+00:00   \n",
       "7823        652        351         9170  2021-01-27 16:07:33+00:00   \n",
       "7824        213         55         2936  2018-08-25 22:14:27+00:00   \n",
       "7825       1041         74          352  2016-10-01 14:58:26+00:00   \n",
       "7826       3614       2718        21897  2009-04-14 04:42:17+00:00   \n",
       "\n",
       "                 tweetcreatedts  retweetcount  favoritecount  \\\n",
       "0     2022-02-03 01:03:56+00:00             0              4   \n",
       "1     2022-02-03 15:53:00+00:00             0              0   \n",
       "2     2022-02-04 03:27:15+00:00             8             22   \n",
       "3     2022-02-03 18:52:23+00:00             1              6   \n",
       "4     2022-02-03 09:46:35+00:00             2              0   \n",
       "...                         ...           ...            ...   \n",
       "7822  2022-02-04 12:15:17+00:00             0              1   \n",
       "7823  2022-02-03 21:49:02+00:00             0              0   \n",
       "7824  2022-02-03 17:00:04+00:00             0              0   \n",
       "7825  2022-02-04 13:56:29+00:00             0              1   \n",
       "7826  2022-02-03 01:17:00+00:00             0              5   \n",
       "\n",
       "                                                   text  \\\n",
       "0     me and them discussing drinking vaccine liquid...   \n",
       "1     if you are pro vaccine take a quick second to ...   \n",
       "2     how can you call me an anti vaxxer when i have...   \n",
       "3     just a piece of advice if you are a parent who...   \n",
       "4     why are we students forced to give offline exa...   \n",
       "...                                                 ...   \n",
       "7822  it is hard being a left leaning person against...   \n",
       "7823  after a very long discussion with a rational a...   \n",
       "7824  let joe rogan be a disgusting racist all he wa...   \n",
       "7825  south africa makes its own version of moderna ...   \n",
       "7826  people should get pfizer or moderna shares eve...   \n",
       "\n",
       "                                               hashtags sentiment  \n",
       "0                                                    []   neutral  \n",
       "1     [{'text': 'spotifyexodus', 'indices': [261, 27...  positive  \n",
       "2                                                    []  negative  \n",
       "3                                                    []   neutral  \n",
       "4     [{'text': 'weWantOnlineExam', 'indices': [241,...  negative  \n",
       "...                                                 ...       ...  \n",
       "7822  [{'text': 'TruckersForFreedom', 'indices': [18...  negative  \n",
       "7823                                                 []  positive  \n",
       "7824                                                 []  negative  \n",
       "7825                                                 []  positive  \n",
       "7826                                                 []   neutral  \n",
       "\n",
       "[7827 rows x 14 columns]"
      ]
     },
     "execution_count": 13,
     "metadata": {},
     "output_type": "execute_result"
    }
   ],
   "source": [
    "train"
   ]
  },
  {
   "cell_type": "code",
   "execution_count": null,
   "metadata": {
    "colab": {
     "base_uri": "https://localhost:8080/"
    },
    "id": "-PEE-Xw_7EvW",
    "outputId": "5caf7d4f-3949-4b65-ea46-5d2f7d0a5611"
   },
   "outputs": [
    {
     "data": {
      "text/plain": [
       "152.2961543375495"
      ]
     },
     "execution_count": 14,
     "metadata": {},
     "output_type": "execute_result"
    }
   ],
   "source": [
    "train['text'].apply(len).mean()"
   ]
  },
  {
   "cell_type": "code",
   "execution_count": null,
   "metadata": {
    "id": "9PtFmqU_ZBGX"
   },
   "outputs": [],
   "source": [
    "from sklearn.model_selection import train_test_split\n",
    "\n",
    "train, test = train_test_split(train, test_size=0.2)"
   ]
  },
  {
   "cell_type": "code",
   "execution_count": null,
   "metadata": {
    "colab": {
     "base_uri": "https://localhost:8080/"
    },
    "id": "MqP2pSyOfara",
    "outputId": "12ab4e82-2f71-4c8a-c3bc-61b15ea9ac54"
   },
   "outputs": [
    {
     "name": "stdout",
     "output_type": "stream",
     "text": [
      "Found 14588 unique tokens.\n"
     ]
    }
   ],
   "source": [
    "tokenizer = Tokenizer(num_words=MAX_NB_WORDS,oov_token=1)\n",
    "tokenizer.fit_on_texts(train['text'].values)\n",
    "word_index = tokenizer.word_index\n",
    "print('Found %s unique tokens.' % len(word_index))"
   ]
  },
  {
   "cell_type": "code",
   "execution_count": null,
   "metadata": {
    "id": "7dkMQbhGBD4F"
   },
   "outputs": [],
   "source": [
    "import pickle\n",
    "\n",
    "# saving\n",
    "with open('gdrive/My Drive/tokenizer.pickle', 'wb') as handle:\n",
    "    pickle.dump(tokenizer, handle, protocol=pickle.HIGHEST_PROTOCOL)"
   ]
  },
  {
   "cell_type": "code",
   "execution_count": null,
   "metadata": {
    "colab": {
     "base_uri": "https://localhost:8080/"
    },
    "id": "aF9N9767grAb",
    "outputId": "dc40cac9-7a84-4ea0-b63a-8f71fa7944c3"
   },
   "outputs": [],
   "source": [
    "X = tokenizer.texts_to_sequences(train['text'].values)\n",
    "X = pad_sequences(X, maxlen=MAX_SEQUENCE_LENGTH)"
   ]
  },
  {
   "cell_type": "code",
   "execution_count": null,
   "metadata": {
    "colab": {
     "base_uri": "https://localhost:8080/"
    },
    "id": "Q8luoDbchCr0",
    "outputId": "06a9d9e1-c110-431b-c87e-3cd195cefbec"
   },
   "outputs": [],
   "source": [
    "Y = pd.get_dummies(train['sentiment']).values"
   ]
  },
  {
   "cell_type": "code",
   "execution_count": null,
   "metadata": {
    "id": "wifo-BHbbSBt"
   },
   "outputs": [],
   "source": [
    "train_text, val_text, train_labels, val_labels = train_test_split(X, Y ,\n",
    "                                                                    random_state=2021, \n",
    "                                                                    test_size=0.2, \n",
    "                                                                    stratify=Y)"
   ]
  },
  {
   "cell_type": "code",
   "execution_count": null,
   "metadata": {
    "id": "9NNxIEZHq61a"
   },
   "outputs": [],
   "source": [
    "import os"
   ]
  },
  {
   "cell_type": "code",
   "execution_count": null,
   "metadata": {
    "colab": {
     "base_uri": "https://localhost:8080/"
    },
    "id": "OdhCTS0NcT-G",
    "outputId": "e4285fed-6ca3-43cd-8167-8ea05bac0931"
   },
   "outputs": [
    {
     "name": "stdout",
     "output_type": "stream",
     "text": [
      "Model: \"sequential_1\"\n",
      "_________________________________________________________________\n",
      " Layer (type)                Output Shape              Param #   \n",
      "=================================================================\n",
      " embedding_1 (Embedding)     (None, 160, 100)          17000000  \n",
      "                                                                 \n",
      " conv1d_1 (Conv1D)           (None, 160, 32)           9632      \n",
      "                                                                 \n",
      " max_pooling1d_1 (MaxPooling  (None, 80, 32)           0         \n",
      " 1D)                                                             \n",
      "                                                                 \n",
      " flatten (Flatten)           (None, 2560)              0         \n",
      "                                                                 \n",
      " dense (Dense)               (None, 250)               640250    \n",
      "                                                                 \n",
      " dense_1 (Dense)             (None, 3)                 753       \n",
      "                                                                 \n",
      "=================================================================\n",
      "Total params: 17,650,635\n",
      "Trainable params: 17,650,635\n",
      "Non-trainable params: 0\n",
      "_________________________________________________________________\n",
      "None\n",
      "Epoch 1/50\n",
      "51/51 [==============================] - ETA: 0s - loss: 0.9904 - accuracy: 0.5084WARNING:tensorflow:Can save best model only with val_acc available, skipping.\n",
      "51/51 [==============================] - 13s 240ms/step - loss: 0.9904 - accuracy: 0.5084 - val_loss: 0.9729 - val_accuracy: 0.5243\n",
      "Epoch 2/50\n",
      "51/51 [==============================] - ETA: 0s - loss: 0.7890 - accuracy: 0.6418WARNING:tensorflow:Can save best model only with val_acc available, skipping.\n",
      "51/51 [==============================] - 12s 232ms/step - loss: 0.7890 - accuracy: 0.6418 - val_loss: 0.8385 - val_accuracy: 0.6121\n",
      "Epoch 3/50\n",
      "51/51 [==============================] - ETA: 0s - loss: 0.3690 - accuracy: 0.8776WARNING:tensorflow:Can save best model only with val_acc available, skipping.\n",
      "51/51 [==============================] - 12s 234ms/step - loss: 0.3690 - accuracy: 0.8776 - val_loss: 0.7534 - val_accuracy: 0.7015\n",
      "Epoch 4/50\n",
      "51/51 [==============================] - ETA: 0s - loss: 0.0901 - accuracy: 0.9804WARNING:tensorflow:Can save best model only with val_acc available, skipping.\n",
      "51/51 [==============================] - 12s 233ms/step - loss: 0.0901 - accuracy: 0.9804 - val_loss: 0.8140 - val_accuracy: 0.7095\n",
      "Epoch 5/50\n",
      "51/51 [==============================] - ETA: 0s - loss: 0.0248 - accuracy: 0.9970WARNING:tensorflow:Can save best model only with val_acc available, skipping.\n",
      "51/51 [==============================] - 13s 250ms/step - loss: 0.0248 - accuracy: 0.9970 - val_loss: 0.8945 - val_accuracy: 0.7199\n",
      "Epoch 6/50\n",
      "51/51 [==============================] - ETA: 0s - loss: 0.0082 - accuracy: 0.9990WARNING:tensorflow:Can save best model only with val_acc available, skipping.\n",
      "51/51 [==============================] - 12s 236ms/step - loss: 0.0082 - accuracy: 0.9990 - val_loss: 0.9106 - val_accuracy: 0.7358\n",
      "Epoch 7/50\n",
      "51/51 [==============================] - ETA: 0s - loss: 0.0035 - accuracy: 1.0000WARNING:tensorflow:Can save best model only with val_acc available, skipping.\n",
      "51/51 [==============================] - 13s 254ms/step - loss: 0.0035 - accuracy: 1.0000 - val_loss: 0.9473 - val_accuracy: 0.7326\n",
      "Epoch 8/50\n",
      "51/51 [==============================] - ETA: 0s - loss: 0.0021 - accuracy: 1.0000WARNING:tensorflow:Can save best model only with val_acc available, skipping.\n",
      "51/51 [==============================] - 12s 234ms/step - loss: 0.0021 - accuracy: 1.0000 - val_loss: 0.9614 - val_accuracy: 0.7358\n",
      "Epoch 9/50\n",
      "51/51 [==============================] - ETA: 0s - loss: 0.0015 - accuracy: 1.0000WARNING:tensorflow:Can save best model only with val_acc available, skipping.\n",
      "51/51 [==============================] - 12s 238ms/step - loss: 0.0015 - accuracy: 1.0000 - val_loss: 0.9878 - val_accuracy: 0.7382\n",
      "Epoch 10/50\n",
      "51/51 [==============================] - ETA: 0s - loss: 0.0011 - accuracy: 1.0000WARNING:tensorflow:Can save best model only with val_acc available, skipping.\n",
      "51/51 [==============================] - 12s 240ms/step - loss: 0.0011 - accuracy: 1.0000 - val_loss: 1.0098 - val_accuracy: 0.7350\n",
      "Epoch 11/50\n",
      "51/51 [==============================] - ETA: 0s - loss: 8.5964e-04 - accuracy: 1.0000WARNING:tensorflow:Can save best model only with val_acc available, skipping.\n",
      "51/51 [==============================] - 13s 263ms/step - loss: 8.5964e-04 - accuracy: 1.0000 - val_loss: 1.0363 - val_accuracy: 0.7358\n",
      "Epoch 12/50\n",
      "51/51 [==============================] - ETA: 0s - loss: 6.8429e-04 - accuracy: 1.0000WARNING:tensorflow:Can save best model only with val_acc available, skipping.\n",
      "51/51 [==============================] - 13s 248ms/step - loss: 6.8429e-04 - accuracy: 1.0000 - val_loss: 1.0549 - val_accuracy: 0.7366\n",
      "Epoch 13/50\n",
      "51/51 [==============================] - ETA: 0s - loss: 5.6368e-04 - accuracy: 1.0000WARNING:tensorflow:Can save best model only with val_acc available, skipping.\n",
      "51/51 [==============================] - 12s 243ms/step - loss: 5.6368e-04 - accuracy: 1.0000 - val_loss: 1.0704 - val_accuracy: 0.7350\n",
      "Epoch 14/50\n",
      "51/51 [==============================] - ETA: 0s - loss: 4.7160e-04 - accuracy: 1.0000WARNING:tensorflow:Can save best model only with val_acc available, skipping.\n",
      "51/51 [==============================] - 12s 233ms/step - loss: 4.7160e-04 - accuracy: 1.0000 - val_loss: 1.0862 - val_accuracy: 0.7358\n",
      "Epoch 15/50\n",
      "51/51 [==============================] - ETA: 0s - loss: 4.0039e-04 - accuracy: 1.0000WARNING:tensorflow:Can save best model only with val_acc available, skipping.\n",
      "51/51 [==============================] - 12s 234ms/step - loss: 4.0039e-04 - accuracy: 1.0000 - val_loss: 1.0979 - val_accuracy: 0.7350\n",
      "Epoch 16/50\n",
      "51/51 [==============================] - ETA: 0s - loss: 3.4553e-04 - accuracy: 1.0000WARNING:tensorflow:Can save best model only with val_acc available, skipping.\n",
      "51/51 [==============================] - 12s 236ms/step - loss: 3.4553e-04 - accuracy: 1.0000 - val_loss: 1.1125 - val_accuracy: 0.7342\n",
      "Epoch 17/50\n",
      "51/51 [==============================] - ETA: 0s - loss: 2.9672e-04 - accuracy: 1.0000WARNING:tensorflow:Can save best model only with val_acc available, skipping.\n",
      "51/51 [==============================] - 12s 234ms/step - loss: 2.9672e-04 - accuracy: 1.0000 - val_loss: 1.1267 - val_accuracy: 0.7334\n",
      "Epoch 18/50\n",
      "51/51 [==============================] - ETA: 0s - loss: 2.6108e-04 - accuracy: 1.0000WARNING:tensorflow:Can save best model only with val_acc available, skipping.\n",
      "51/51 [==============================] - 12s 233ms/step - loss: 2.6108e-04 - accuracy: 1.0000 - val_loss: 1.1389 - val_accuracy: 0.7318\n",
      "Epoch 19/50\n",
      "51/51 [==============================] - ETA: 0s - loss: 2.3098e-04 - accuracy: 1.0000WARNING:tensorflow:Can save best model only with val_acc available, skipping.\n",
      "51/51 [==============================] - 12s 227ms/step - loss: 2.3098e-04 - accuracy: 1.0000 - val_loss: 1.1475 - val_accuracy: 0.7334\n",
      "Epoch 20/50\n",
      "51/51 [==============================] - ETA: 0s - loss: 2.0516e-04 - accuracy: 1.0000WARNING:tensorflow:Can save best model only with val_acc available, skipping.\n",
      "51/51 [==============================] - 12s 233ms/step - loss: 2.0516e-04 - accuracy: 1.0000 - val_loss: 1.1600 - val_accuracy: 0.7334\n",
      "Epoch 21/50\n",
      "51/51 [==============================] - ETA: 0s - loss: 1.8329e-04 - accuracy: 1.0000WARNING:tensorflow:Can save best model only with val_acc available, skipping.\n",
      "51/51 [==============================] - 13s 251ms/step - loss: 1.8329e-04 - accuracy: 1.0000 - val_loss: 1.1716 - val_accuracy: 0.7334\n",
      "Epoch 22/50\n",
      "51/51 [==============================] - ETA: 0s - loss: 1.6472e-04 - accuracy: 1.0000WARNING:tensorflow:Can save best model only with val_acc available, skipping.\n",
      "51/51 [==============================] - 12s 243ms/step - loss: 1.6472e-04 - accuracy: 1.0000 - val_loss: 1.1793 - val_accuracy: 0.7342\n",
      "Epoch 23/50\n",
      "51/51 [==============================] - ETA: 0s - loss: 1.4927e-04 - accuracy: 1.0000WARNING:tensorflow:Can save best model only with val_acc available, skipping.\n",
      "51/51 [==============================] - 12s 234ms/step - loss: 1.4927e-04 - accuracy: 1.0000 - val_loss: 1.1890 - val_accuracy: 0.7358\n",
      "Epoch 24/50\n",
      "51/51 [==============================] - ETA: 0s - loss: 1.3510e-04 - accuracy: 1.0000WARNING:tensorflow:Can save best model only with val_acc available, skipping.\n",
      "51/51 [==============================] - 12s 232ms/step - loss: 1.3510e-04 - accuracy: 1.0000 - val_loss: 1.2013 - val_accuracy: 0.7318\n",
      "Epoch 25/50\n",
      "51/51 [==============================] - ETA: 0s - loss: 1.2264e-04 - accuracy: 1.0000WARNING:tensorflow:Can save best model only with val_acc available, skipping.\n",
      "51/51 [==============================] - 12s 237ms/step - loss: 1.2264e-04 - accuracy: 1.0000 - val_loss: 1.2078 - val_accuracy: 0.7350\n",
      "Epoch 26/50\n",
      "51/51 [==============================] - ETA: 0s - loss: 1.1287e-04 - accuracy: 1.0000WARNING:tensorflow:Can save best model only with val_acc available, skipping.\n",
      "51/51 [==============================] - 12s 234ms/step - loss: 1.1287e-04 - accuracy: 1.0000 - val_loss: 1.2177 - val_accuracy: 0.7334\n",
      "Epoch 27/50\n",
      "51/51 [==============================] - ETA: 0s - loss: 1.0290e-04 - accuracy: 1.0000WARNING:tensorflow:Can save best model only with val_acc available, skipping.\n",
      "51/51 [==============================] - 12s 241ms/step - loss: 1.0290e-04 - accuracy: 1.0000 - val_loss: 1.2271 - val_accuracy: 0.7342\n",
      "Epoch 28/50\n",
      "51/51 [==============================] - ETA: 0s - loss: 9.4929e-05 - accuracy: 1.0000WARNING:tensorflow:Can save best model only with val_acc available, skipping.\n",
      "51/51 [==============================] - 12s 233ms/step - loss: 9.4929e-05 - accuracy: 1.0000 - val_loss: 1.2339 - val_accuracy: 0.7374\n",
      "Epoch 29/50\n",
      "51/51 [==============================] - ETA: 0s - loss: 8.7703e-05 - accuracy: 1.0000WARNING:tensorflow:Can save best model only with val_acc available, skipping.\n",
      "51/51 [==============================] - 12s 236ms/step - loss: 8.7703e-05 - accuracy: 1.0000 - val_loss: 1.2413 - val_accuracy: 0.7374\n",
      "Epoch 30/50\n",
      "51/51 [==============================] - ETA: 0s - loss: 8.0836e-05 - accuracy: 1.0000WARNING:tensorflow:Can save best model only with val_acc available, skipping.\n",
      "51/51 [==============================] - 12s 244ms/step - loss: 8.0836e-05 - accuracy: 1.0000 - val_loss: 1.2502 - val_accuracy: 0.7374\n",
      "Epoch 31/50\n",
      "51/51 [==============================] - ETA: 0s - loss: 7.5031e-05 - accuracy: 1.0000WARNING:tensorflow:Can save best model only with val_acc available, skipping.\n",
      "51/51 [==============================] - 12s 233ms/step - loss: 7.5031e-05 - accuracy: 1.0000 - val_loss: 1.2567 - val_accuracy: 0.7366\n",
      "Epoch 32/50\n",
      "51/51 [==============================] - ETA: 0s - loss: 6.9513e-05 - accuracy: 1.0000WARNING:tensorflow:Can save best model only with val_acc available, skipping.\n",
      "51/51 [==============================] - 12s 234ms/step - loss: 6.9513e-05 - accuracy: 1.0000 - val_loss: 1.2644 - val_accuracy: 0.7366\n",
      "Epoch 33/50\n",
      "51/51 [==============================] - ETA: 0s - loss: 6.4608e-05 - accuracy: 1.0000WARNING:tensorflow:Can save best model only with val_acc available, skipping.\n",
      "51/51 [==============================] - 12s 234ms/step - loss: 6.4608e-05 - accuracy: 1.0000 - val_loss: 1.2706 - val_accuracy: 0.7382\n",
      "Epoch 34/50\n",
      "51/51 [==============================] - ETA: 0s - loss: 6.0320e-05 - accuracy: 1.0000WARNING:tensorflow:Can save best model only with val_acc available, skipping.\n",
      "51/51 [==============================] - 12s 234ms/step - loss: 6.0320e-05 - accuracy: 1.0000 - val_loss: 1.2786 - val_accuracy: 0.7390\n",
      "Epoch 35/50\n",
      "51/51 [==============================] - ETA: 0s - loss: 5.6385e-05 - accuracy: 1.0000WARNING:tensorflow:Can save best model only with val_acc available, skipping.\n",
      "51/51 [==============================] - 12s 235ms/step - loss: 5.6385e-05 - accuracy: 1.0000 - val_loss: 1.2859 - val_accuracy: 0.7390\n",
      "Epoch 36/50\n",
      "51/51 [==============================] - ETA: 0s - loss: 5.2559e-05 - accuracy: 1.0000WARNING:tensorflow:Can save best model only with val_acc available, skipping.\n",
      "51/51 [==============================] - 12s 232ms/step - loss: 5.2559e-05 - accuracy: 1.0000 - val_loss: 1.2907 - val_accuracy: 0.7382\n",
      "Epoch 37/50\n",
      "51/51 [==============================] - ETA: 0s - loss: 4.9454e-05 - accuracy: 1.0000WARNING:tensorflow:Can save best model only with val_acc available, skipping.\n",
      "51/51 [==============================] - 12s 230ms/step - loss: 4.9454e-05 - accuracy: 1.0000 - val_loss: 1.2991 - val_accuracy: 0.7390\n",
      "Epoch 38/50\n",
      "51/51 [==============================] - ETA: 0s - loss: 4.6100e-05 - accuracy: 1.0000WARNING:tensorflow:Can save best model only with val_acc available, skipping.\n",
      "51/51 [==============================] - 12s 229ms/step - loss: 4.6100e-05 - accuracy: 1.0000 - val_loss: 1.3049 - val_accuracy: 0.7390\n",
      "Epoch 39/50\n",
      "51/51 [==============================] - ETA: 0s - loss: 4.3436e-05 - accuracy: 1.0000WARNING:tensorflow:Can save best model only with val_acc available, skipping.\n",
      "51/51 [==============================] - 13s 247ms/step - loss: 4.3436e-05 - accuracy: 1.0000 - val_loss: 1.3116 - val_accuracy: 0.7390\n",
      "Epoch 40/50\n",
      "51/51 [==============================] - ETA: 0s - loss: 4.0804e-05 - accuracy: 1.0000WARNING:tensorflow:Can save best model only with val_acc available, skipping.\n",
      "51/51 [==============================] - 12s 238ms/step - loss: 4.0804e-05 - accuracy: 1.0000 - val_loss: 1.3169 - val_accuracy: 0.7390\n",
      "Epoch 41/50\n",
      "51/51 [==============================] - ETA: 0s - loss: 3.8326e-05 - accuracy: 1.0000WARNING:tensorflow:Can save best model only with val_acc available, skipping.\n",
      "51/51 [==============================] - 14s 271ms/step - loss: 3.8326e-05 - accuracy: 1.0000 - val_loss: 1.3224 - val_accuracy: 0.7398\n",
      "Epoch 42/50\n",
      "51/51 [==============================] - ETA: 0s - loss: 3.6342e-05 - accuracy: 1.0000WARNING:tensorflow:Can save best model only with val_acc available, skipping.\n",
      "51/51 [==============================] - 19s 373ms/step - loss: 3.6342e-05 - accuracy: 1.0000 - val_loss: 1.3292 - val_accuracy: 0.7390\n",
      "Epoch 43/50\n",
      "51/51 [==============================] - ETA: 0s - loss: 3.4116e-05 - accuracy: 1.0000WARNING:tensorflow:Can save best model only with val_acc available, skipping.\n",
      "51/51 [==============================] - 12s 235ms/step - loss: 3.4116e-05 - accuracy: 1.0000 - val_loss: 1.3348 - val_accuracy: 0.7398\n",
      "Epoch 44/50\n",
      "51/51 [==============================] - ETA: 0s - loss: 3.2114e-05 - accuracy: 1.0000WARNING:tensorflow:Can save best model only with val_acc available, skipping.\n",
      "51/51 [==============================] - 12s 236ms/step - loss: 3.2114e-05 - accuracy: 1.0000 - val_loss: 1.3401 - val_accuracy: 0.7398\n",
      "Epoch 45/50\n",
      "51/51 [==============================] - ETA: 0s - loss: 3.0478e-05 - accuracy: 1.0000WARNING:tensorflow:Can save best model only with val_acc available, skipping.\n",
      "51/51 [==============================] - 12s 231ms/step - loss: 3.0478e-05 - accuracy: 1.0000 - val_loss: 1.3458 - val_accuracy: 0.7406\n",
      "Epoch 46/50\n",
      "51/51 [==============================] - ETA: 0s - loss: 2.8922e-05 - accuracy: 1.0000WARNING:tensorflow:Can save best model only with val_acc available, skipping.\n",
      "51/51 [==============================] - 12s 233ms/step - loss: 2.8922e-05 - accuracy: 1.0000 - val_loss: 1.3523 - val_accuracy: 0.7390\n",
      "Epoch 47/50\n",
      "51/51 [==============================] - ETA: 0s - loss: 2.7287e-05 - accuracy: 1.0000WARNING:tensorflow:Can save best model only with val_acc available, skipping.\n",
      "51/51 [==============================] - 12s 233ms/step - loss: 2.7287e-05 - accuracy: 1.0000 - val_loss: 1.3575 - val_accuracy: 0.7382\n",
      "Epoch 48/50\n",
      "51/51 [==============================] - ETA: 0s - loss: 2.5856e-05 - accuracy: 1.0000WARNING:tensorflow:Can save best model only with val_acc available, skipping.\n",
      "51/51 [==============================] - 12s 233ms/step - loss: 2.5856e-05 - accuracy: 1.0000 - val_loss: 1.3625 - val_accuracy: 0.7390\n",
      "Epoch 49/50\n",
      "51/51 [==============================] - ETA: 0s - loss: 2.4574e-05 - accuracy: 1.0000WARNING:tensorflow:Can save best model only with val_acc available, skipping.\n",
      "51/51 [==============================] - 12s 234ms/step - loss: 2.4574e-05 - accuracy: 1.0000 - val_loss: 1.3695 - val_accuracy: 0.7398\n",
      "Epoch 50/50\n",
      "51/51 [==============================] - ETA: 0s - loss: 2.3379e-05 - accuracy: 1.0000WARNING:tensorflow:Can save best model only with val_acc available, skipping.\n",
      "51/51 [==============================] - 13s 246ms/step - loss: 2.3379e-05 - accuracy: 1.0000 - val_loss: 1.3731 - val_accuracy: 0.7382\n"
     ]
    },
    {
     "data": {
      "text/plain": [
       "<keras.callbacks.History at 0x7f4e9b4e5ed0>"
      ]
     },
     "execution_count": 25,
     "metadata": {},
     "output_type": "execute_result"
    }
   ],
   "source": [
    "# create the model\n",
    "model = Sequential()\n",
    "model.add(Embedding(MAX_NB_WORDS, EMBEDDING_DIM, input_length=MAX_SEQUENCE_LENGTH))\n",
    "model.add(Conv1D(32, 3, padding='same', activation='relu'))\n",
    "model.add(MaxPooling1D())\n",
    "model.add(Flatten())\n",
    "model.add(Dense(250, activation='relu'))\n",
    "model.add(Dense(3, activation='softmax'))\n",
    "model.compile(loss='categorical_crossentropy', optimizer='adam', metrics=['accuracy'])\n",
    "print(model.summary())  \n",
    "checkpoint_filepath=\"gdrive/My Drive/CZ4034_CNN.hdf5\"\n",
    "checkpoint = ModelCheckpoint(checkpoint_filepath, monitor='val_acc', verbose=1, save_best_only=True, mode='max',save_weights_only=False)\n",
    "callbacks_list = [checkpoint]\n",
    "model.fit(train_text, train_labels, epochs=50, batch_size=100,verbose = 1,callbacks = callbacks_list,validation_data=(val_text,val_labels))"
   ]
  },
  {
   "cell_type": "code",
   "execution_count": null,
   "metadata": {
    "colab": {
     "base_uri": "https://localhost:8080/"
    },
    "id": "qVd-mHAVGl_O",
    "outputId": "f8f48980-dac2-4ead-be79-eed9b29626cb"
   },
   "outputs": [
    {
     "data": {
      "text/plain": [
       "7827"
      ]
     },
     "execution_count": 13,
     "metadata": {},
     "output_type": "execute_result"
    }
   ],
   "source": [
    "model.save('gdrive/My Drive/CZ4034_CNN.h5')"
   ]
  },
  {
   "cell_type": "code",
   "execution_count": null,
   "metadata": {
    "id": "fH97eSniD-Hj"
   },
   "outputs": [],
   "source": [
    "model=load_model('gdrive/My Drive/CZ4034_CNN.h5')"
   ]
  },
  {
   "cell_type": "code",
   "execution_count": null,
   "metadata": {
    "id": "RUGGKjmeEARx"
   },
   "outputs": [],
   "source": [
    "test=pd.read_csv('gdrive/My Drive/CZ4034_test.csv')"
   ]
  },
  {
   "cell_type": "code",
   "execution_count": null,
   "metadata": {
    "id": "ibKNXTzgE9kO"
   },
   "outputs": [],
   "source": [
    "test['text']=test['text'].apply(clean_text)"
   ]
  },
  {
   "cell_type": "code",
   "execution_count": null,
   "metadata": {
    "id": "L8MY4iXAFPHN"
   },
   "outputs": [],
   "source": [
    "with open('gdrive/My Drive/CNN_LSTM_tokenizer.pickle', 'rb') as handle:\n",
    "    tokenizer = pickle.load(handle)"
   ]
  },
  {
   "cell_type": "code",
   "execution_count": null,
   "metadata": {
    "colab": {
     "base_uri": "https://localhost:8080/"
    },
    "id": "nhuqS6o7E9kO",
    "outputId": "a99630f5-96a3-4fe0-8cec-6194b68b52a4"
   },
   "outputs": [
    {
     "name": "stdout",
     "output_type": "stream",
     "text": [
      "Shape of data tensor: (1957, 160)\n"
     ]
    }
   ],
   "source": [
    "X_test = tokenizer.texts_to_sequences(test['text'].values)\n",
    "X_test = pad_sequences(X_test, maxlen=MAX_SEQUENCE_LENGTH)\n",
    "print('Shape of data tensor:', X_test.shape)"
   ]
  },
  {
   "cell_type": "code",
   "execution_count": null,
   "metadata": {
    "colab": {
     "base_uri": "https://localhost:8080/"
    },
    "id": "N2qpg4JLZhRS",
    "outputId": "81434fe3-67c2-4ffb-c1ac-8ad0890c2491"
   },
   "outputs": [],
   "source": [
    "Y_test = pd.get_dummies(test['sentiment']).values"
   ]
  },
  {
   "cell_type": "code",
   "execution_count": null,
   "metadata": {
    "id": "KHMDubgqZhRT"
   },
   "outputs": [],
   "source": [
    "scores = model.evaluate(X_test, Y_test, verbose=0)"
   ]
  },
  {
   "cell_type": "code",
   "execution_count": null,
   "metadata": {
    "colab": {
     "base_uri": "https://localhost:8080/"
    },
    "id": "pSJR2TmMZg3s",
    "outputId": "670e4561-597a-4f17-ee74-c457f0f0fa42"
   },
   "outputs": [
    {
     "data": {
      "text/plain": [
       "[1.4352388381958008, 0.7222222089767456]"
      ]
     },
     "execution_count": 30,
     "metadata": {},
     "output_type": "execute_result"
    }
   ],
   "source": [
    "scores"
   ]
  },
  {
   "cell_type": "code",
   "execution_count": null,
   "metadata": {
    "id": "ZjtfyjJ9Zgqx"
   },
   "outputs": [],
   "source": [
    "pred = model.predict(X_test) "
   ]
  },
  {
   "cell_type": "code",
   "execution_count": null,
   "metadata": {
    "colab": {
     "base_uri": "https://localhost:8080/"
    },
    "id": "G80PtF_HZtlx",
    "outputId": "e4c3c20e-2306-437a-846f-93ce5913b9b2"
   },
   "outputs": [
    {
     "data": {
      "text/plain": [
       "array([[2.3902414e-06, 9.9999750e-01, 1.5422442e-07],\n",
       "       [1.5312226e-05, 9.9998438e-01, 3.2200512e-07],\n",
       "       [1.5461344e-04, 9.9833471e-01, 1.5107396e-03],\n",
       "       ...,\n",
       "       [1.3012092e-01, 8.6987752e-01, 1.5228884e-06],\n",
       "       [2.4055093e-06, 9.9999619e-01, 1.3895451e-06],\n",
       "       [9.9999905e-01, 5.5427108e-07, 3.7051160e-07]], dtype=float32)"
      ]
     },
     "execution_count": 32,
     "metadata": {},
     "output_type": "execute_result"
    }
   ],
   "source": [
    "pred"
   ]
  },
  {
   "cell_type": "code",
   "execution_count": null,
   "metadata": {
    "id": "b5JdXSKjZtVI"
   },
   "outputs": [],
   "source": [
    "pred1=np.argmax(pred,axis=1)"
   ]
  },
  {
   "cell_type": "code",
   "execution_count": null,
   "metadata": {
    "id": "GbzFsVROaM2H"
   },
   "outputs": [],
   "source": [
    "true=np.argmax(Y_test,axis=1)"
   ]
  },
  {
   "cell_type": "code",
   "execution_count": null,
   "metadata": {
    "id": "a3mJki4Uaeu9"
   },
   "outputs": [],
   "source": [
    "from sklearn.metrics import accuracy_score"
   ]
  },
  {
   "cell_type": "code",
   "execution_count": null,
   "metadata": {
    "colab": {
     "base_uri": "https://localhost:8080/"
    },
    "id": "it4XL1mkaefQ",
    "outputId": "a21f8479-913b-4186-98b0-b500db41c1f9"
   },
   "outputs": [
    {
     "data": {
      "text/plain": [
       "0.7222222222222222"
      ]
     },
     "execution_count": 37,
     "metadata": {},
     "output_type": "execute_result"
    }
   ],
   "source": [
    "accuracy_score(true, pred1)"
   ]
  },
  {
   "cell_type": "code",
   "execution_count": null,
   "metadata": {
    "colab": {
     "base_uri": "https://localhost:8080/"
    },
    "id": "HFXyBctqaoi0",
    "outputId": "0a066326-3213-43fb-e520-3ae64126013d"
   },
   "outputs": [
    {
     "name": "stdout",
     "output_type": "stream",
     "text": [
      "              precision    recall  f1-score   support\n",
      "\n",
      "           0       0.62      0.63      0.63       448\n",
      "           1       0.79      0.80      0.79       494\n",
      "           2       0.74      0.73      0.73       624\n",
      "\n",
      "    accuracy                           0.72      1566\n",
      "   macro avg       0.72      0.72      0.72      1566\n",
      "weighted avg       0.72      0.72      0.72      1566\n",
      "\n"
     ]
    }
   ],
   "source": [
    "print(classification_report(true, pred1))"
   ]
  },
  {
   "cell_type": "code",
   "execution_count": null,
   "metadata": {
    "id": "PyxXzNX8atsd"
   },
   "outputs": [],
   "source": [
    "model.save('gdrive/My Drive/CZ4034_CNN.h5')"
   ]
  },
  {
   "cell_type": "code",
   "execution_count": null,
   "metadata": {
    "id": "2YPwWwGfBQdG"
   },
   "outputs": [],
   "source": []
  }
 ],
 "metadata": {
  "accelerator": "GPU",
  "colab": {
   "collapsed_sections": [],
   "name": "CZ4034 CNN.ipynb",
   "provenance": []
  },
  "kernelspec": {
   "display_name": "Python 3 (ipykernel)",
   "language": "python",
   "name": "python3"
  },
  "language_info": {
   "codemirror_mode": {
    "name": "ipython",
    "version": 3
   },
   "file_extension": ".py",
   "mimetype": "text/x-python",
   "name": "python",
   "nbconvert_exporter": "python",
   "pygments_lexer": "ipython3",
   "version": "3.9.7"
  }
 },
 "nbformat": 4,
 "nbformat_minor": 1
}
